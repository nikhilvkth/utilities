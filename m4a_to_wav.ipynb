{
  "nbformat": 4,
  "nbformat_minor": 0,
  "metadata": {
    "colab": {
      "provenance": [],
      "authorship_tag": "ABX9TyNGJBM3Ci43oQm5MaOkCT3y",
      "include_colab_link": true
    },
    "kernelspec": {
      "name": "python3",
      "display_name": "Python 3"
    },
    "language_info": {
      "name": "python"
    }
  },
  "cells": [
    {
      "cell_type": "markdown",
      "metadata": {
        "id": "view-in-github",
        "colab_type": "text"
      },
      "source": [
        "<a href=\"https://colab.research.google.com/github/nikhilvkth/utilities/blob/main/m4a_to_wav.ipynb\" target=\"_parent\"><img src=\"https://colab.research.google.com/assets/colab-badge.svg\" alt=\"Open In Colab\"/></a>"
      ]
    },
    {
      "cell_type": "code",
      "execution_count": null,
      "metadata": {
        "id": "5b8QSFhsSqR5"
      },
      "outputs": [],
      "source": [
        "from pydub import AudioSegment\n",
        "\n",
        "def convert_m4a_to_wav(m4a_file, wav_file):\n",
        "    audio = AudioSegment.from_file(m4a_file, format='m4a')\n",
        "    audio.export(wav_file, format='wav')\n",
        "\n",
        "# Provide the file paths for input M4A file and output WAV file\n",
        "m4a_file_path = 'path_to_input_file.m4a'\n",
        "wav_file_path = 'path_to_output_file.wav'\n",
        "\n",
        "convert_m4a_to_wav(m4a_file_path, wav_file_path)"
      ]
    }
  ]
}